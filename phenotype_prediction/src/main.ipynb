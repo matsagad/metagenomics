{
 "cells": [
  {
   "cell_type": "markdown",
   "metadata": {},
   "source": [
    "## Set-up\n",
    "### Dependencies\n",
    "We use `scikit-learn` for implementing models and `sklearn-rvm` for a Relevance Vector Machine (RVM) implementation. We also use `numpy` and `pandas` for processing data into nice data frames.\n",
    "### Constants"
   ]
  },
  {
   "cell_type": "code",
   "execution_count": 1,
   "metadata": {},
   "outputs": [],
   "source": [
    "import numpy as np\n",
    "\n",
    "SEED = 24\n",
    "BIN_COUNT = 50\n",
    "CV_COUNT = 10\n",
    "\n",
    "np.random.seed(SEED)"
   ]
  },
  {
   "cell_type": "markdown",
   "metadata": {},
   "source": [
    "### Utility Functions"
   ]
  },
  {
   "cell_type": "code",
   "execution_count": 87,
   "metadata": {},
   "outputs": [],
   "source": [
    "from sklearn.metrics import f1_score\n",
    "from sklearn.model_selection import train_test_split, cross_val_score\n",
    "from sklearn.utils import shuffle\n",
    "import json\n",
    "\n",
    "\n",
    "def get_bin_values_from_sketch(fname: str) -> list[int]:\n",
    "    try:\n",
    "        json_data = open(f\"../sketches/sample_{fname}.json\")\n",
    "        return json.load(json_data)[\"signatures\"][0][\"Sketch\"][\"mins\"]\n",
    "    except:\n",
    "        return [-1] * BIN_COUNT\n",
    "\n",
    "\n",
    "def get_train_test_f1_score(clf, X_train, y_train, X_test, y_test):\n",
    "    clf.fit(X_train, y_train)\n",
    "    return f1_score(y_train, clf.predict(X_train)), f1_score(y_test, clf.predict(X_test))\n",
    "\n",
    "\n",
    "def get_f1_results(clf, X, y):\n",
    "    metrics = [\"Train\", \"Test\", \"Mean CV\", \"Std CV\"]\n",
    "\n",
    "    if len(X) == 0:\n",
    "        return dict(zip(metrics, [\"n/a\"] * len(metrics)))\n",
    "\n",
    "    X_train, X_test, y_train, y_test = train_test_split(\n",
    "        X, y, test_size=0.2)\n",
    "    f1_train, f1_test = get_train_test_f1_score(clf,\n",
    "                                                X_train, y_train, X_test, y_test)\n",
    "    X_train, y_train = shuffle(X_train, y_train)\n",
    "    cv_score = cross_val_score(\n",
    "        clf, X_train, y_train, scoring=\"f1\", cv=CV_COUNT)\n",
    "    return dict(zip(metrics, (f1_train, f1_test, cv_score.mean(), cv_score.std())))\n"
   ]
  },
  {
   "cell_type": "markdown",
   "metadata": {},
   "source": [
    "### Loading Data\n",
    "The subject metadata of the infant study can be found on the [T1D cohort WGS page on Diabimmune](https://diabimmune.broadinstitute.org/diabimmune/t1d-cohort/resources/metagenomic-sequence-data). The gid and diagnosis are used to retrieve the relevant sketches and test predictive accuracy respectively."
   ]
  },
  {
   "cell_type": "code",
   "execution_count": 88,
   "metadata": {},
   "outputs": [],
   "source": [
    "import pandas as pd\n",
    "\n",
    "# Metadata on the study\n",
    "df = pd.read_csv(\"../data/diabimmune_t1d_wgs_metadata.csv\")[\n",
    "    [\"Gid_shotgun\", \"T1D_Diagnosed\"]]\n",
    "\n",
    "# Histosketch bin values\n",
    "X = np.stack(df[\"Gid_shotgun\"].apply(\n",
    "    get_bin_values_from_sketch).values)\n",
    "features = np.arange(BIN_COUNT)\n",
    "\n",
    "# T1D diagnosis\n",
    "y = df[\"T1D_Diagnosed\"].apply(int).to_numpy()[X[:,0] > 0]\n",
    "\n",
    "# Remove negative frequencies from invalid sketch files\n",
    "X = X[X[:,0] > 0]\n"
   ]
  },
  {
   "cell_type": "markdown",
   "metadata": {},
   "source": [
    "### Feature Engineering\n",
    "We use lasso to isolate statistically relevant features. Both the entire bin count and ones chosen by lasso are used."
   ]
  },
  {
   "cell_type": "code",
   "execution_count": null,
   "metadata": {},
   "outputs": [],
   "source": [
    "from sklearn.linear_model import Lasso\n",
    "from sklearn.model_selection import train_test_split, GridSearchCV\n",
    "from sklearn.pipeline import make_pipeline\n",
    "from sklearn.preprocessing import StandardScaler\n",
    "\n",
    "\n",
    "X_train, X_test, y_train, y_test = train_test_split(\n",
    "    X, y, test_size=0.2)\n",
    "\n",
    "pipeline = make_pipeline(StandardScaler(), Lasso())\n",
    "\n",
    "# Find best alpha parameter for lasso via 10-fold CV\n",
    "search = GridSearchCV(pipeline, {\"lasso__alpha\": np.arange(\n",
    "    0.1, 10, 0.1)}, cv=CV_COUNT, scoring=\"neg_mean_squared_error\")\n",
    "search.fit(X_train, y_train)\n",
    "coefficients = search.best_estimator_.named_steps[\"lasso\"].coef_\n",
    "\n",
    "# Retrieve features with significance\n",
    "lasso_features = features[np.abs(coefficients) > 0]\n",
    "\n",
    "feature_map = {\"Regular\": features, \"Lasso\": lasso_features}\n",
    "feature_map"
   ]
  },
  {
   "cell_type": "markdown",
   "metadata": {},
   "source": [
    "## Testing\n",
    "### Model Fitting\n",
    "The F1 scores are calculated for each model. Models used are: Relevance Vector Machines (RVM), Support Vector Machines (SVM), Random Forests (RF), and Naive Bayes (NB)."
   ]
  },
  {
   "cell_type": "code",
   "execution_count": 85,
   "metadata": {},
   "outputs": [],
   "source": [
    "from sklearn_rvm import EMRVC\n",
    "from sklearn.ensemble import RandomForestClassifier\n",
    "from sklearn.naive_bayes import GaussianNB\n",
    "from sklearn.svm import SVC\n",
    "\n",
    "classifiers = {\n",
    "    \"RVM\": EMRVC(gamma=\"scale\", kernel=\"rbf\"),\n",
    "    \"SVM\": SVC(gamma=\"scale\", kernel=\"rbf\"),\n",
    "    \"RF\": RandomForestClassifier(),\n",
    "    \"NB\": GaussianNB(),\n",
    "}\n"
   ]
  },
  {
   "cell_type": "markdown",
   "metadata": {},
   "source": [
    "### Results\n",
    "Metrics for performance are identical to the original study: finding the F1 scores for training, testing, and 10-fold CV of each model. These are done twice: with all bins as features as well as only those chosen by lasso."
   ]
  },
  {
   "cell_type": "code",
   "execution_count": null,
   "metadata": {},
   "outputs": [],
   "source": [
    "results = pd.DataFrame(dict((f\"{name} {suffix}\", get_f1_results(clf, X[:,features_chosen], y)) for (\n",
    "    name, clf) in classifiers.items() for (suffix, features_chosen) in feature_map.items()))\n",
    "\n",
    "results"
   ]
  }
 ],
 "metadata": {
  "kernelspec": {
   "display_name": "Python 3.9.13 ('bio')",
   "language": "python",
   "name": "python3"
  },
  "language_info": {
   "codemirror_mode": {
    "name": "ipython",
    "version": 3
   },
   "file_extension": ".py",
   "mimetype": "text/x-python",
   "name": "python",
   "nbconvert_exporter": "python",
   "pygments_lexer": "ipython3",
   "version": "3.9.13"
  },
  "orig_nbformat": 4,
  "vscode": {
   "interpreter": {
    "hash": "0dfc37f6ed6f4db3fd415a4949d02bc3f76b051284efcdc1624f724dc7e34954"
   }
  }
 },
 "nbformat": 4,
 "nbformat_minor": 2
}
